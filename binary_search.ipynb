{
 "cells": [
  {
   "cell_type": "code",
   "execution_count": 51,
   "metadata": {
    "collapsed": true
   },
   "outputs": [],
   "source": [
    "#같은 인터페이스 인데 성능이 훨씬 좋은 탐색\n",
    "#이진탐색\n",
    "import math\n",
    "\n",
    "data = [1,2,3,4,6,8,9]\n",
    "\n",
    "def binary_search(data, target):\n",
    "    '''\n",
    "    data에서 target의 인덱스\n",
    "    target이 없다면 None\n",
    "    '''\n",
    "    minValue = 0\n",
    "    maxValue = len(data)-1\n",
    "    \n",
    "    while minValue <= maxValue:\n",
    "        mid = math.floor((minValue + maxValue) / 2)\n",
    "        #print(\"mid :\", mid)\n",
    "        #print(\"target :\", target)\n",
    "        #print(\"target :\", data[mid])\n",
    "        if target == data[mid]:\n",
    "            return \"True\"\n",
    "        elif target < data[mid]:\n",
    "            maxValue = mid - 1\n",
    "        else:\n",
    "            minValue = mid + 1\n",
    "    return \"None\"\n"
   ]
  },
  {
   "cell_type": "code",
   "execution_count": 6,
   "metadata": {
    "collapsed": true
   },
   "outputs": [],
   "source": [
    "    import math\n",
    "    data = [1,2,3,4,6,8,9]\n",
    "    target = 0\n",
    "    minValue = 0\n",
    "    maxValue = len(data)-1"
   ]
  },
  {
   "cell_type": "code",
   "execution_count": 7,
   "metadata": {},
   "outputs": [
    {
     "data": {
      "text/plain": [
       "6"
      ]
     },
     "execution_count": 7,
     "metadata": {},
     "output_type": "execute_result"
    }
   ],
   "source": [
    "maxValue"
   ]
  },
  {
   "cell_type": "code",
   "execution_count": 22,
   "metadata": {},
   "outputs": [
    {
     "data": {
      "text/plain": [
       "1"
      ]
     },
     "execution_count": 22,
     "metadata": {},
     "output_type": "execute_result"
    }
   ],
   "source": [
    "    while minValue <= maxValue:\n",
    "        mid = math.floor((minValue + maxValue) / 2)\n",
    "        print(mid)\n",
    "        print(minValue)\n",
    "        print(maxValue)\n",
    "        if target == data[mid]:\n",
    "            0\n",
    "        elif target < data[mid]:\n",
    "            maxValue = mid - 1\n",
    "        else:\n",
    "            minValue = mid + 1\n",
    "    1\n"
   ]
  },
  {
   "cell_type": "code",
   "execution_count": 52,
   "metadata": {},
   "outputs": [
    {
     "name": "stdout",
     "output_type": "stream",
     "text": [
      "mid : 3\n",
      "target : 3\n",
      "target : 4\n",
      "mid : 1\n",
      "target : 3\n",
      "target : 2\n",
      "mid : 2\n",
      "target : 3\n",
      "target : 3\n"
     ]
    },
    {
     "data": {
      "text/plain": [
       "'True'"
      ]
     },
     "execution_count": 52,
     "metadata": {},
     "output_type": "execute_result"
    }
   ],
   "source": [
    "binary_search(data, 3)"
   ]
  },
  {
   "cell_type": "code",
   "execution_count": 32,
   "metadata": {},
   "outputs": [
    {
     "data": {
      "text/plain": [
       "'None'"
      ]
     },
     "execution_count": 32,
     "metadata": {},
     "output_type": "execute_result"
    }
   ],
   "source": [
    "signal"
   ]
  },
  {
   "cell_type": "code",
   "execution_count": null,
   "metadata": {
    "collapsed": true
   },
   "outputs": [],
   "source": []
  }
 ],
 "metadata": {
  "kernelspec": {
   "display_name": "Python 3",
   "language": "python",
   "name": "python3"
  }
 },
 "nbformat": 4,
 "nbformat_minor": 2
}
