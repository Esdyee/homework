{
 "cells": [
  {
   "cell_type": "code",
   "execution_count": 6,
   "metadata": {},
   "outputs": [],
   "source": [
    "#2번째 인자에서 3번째 인자를 경유해서 4번째 인자로 옮긴다가 기본 명제다.\n",
    "\n",
    "#즉, first 인자에서 middle을 거쳐 last로 옮긴다.\n",
    "def hanoi(n,first,middle,last):\n",
    "    #재귀 종료를 위한 조건\n",
    "    if(n==1):\n",
    "        #데이터의 이동을 표현하는 print문\n",
    "        print(n,\":\",first,\"===>\",last);\n",
    "    else:\n",
    "        #n-1번째까지의 first 인자에서 last를 거쳐 middle로 옮긴다.\n",
    "        hanoi(n-1, first, last, middle)\n",
    "        #n번째의 블록을 first에서 경유할 것도 없이 last로 옮긴다.\n",
    "        print(n,\":\",first,\"===>\",last)\n",
    "        #n-1번째까지의 middle 인자에서 first를 거쳐 last로 옮긴다.\n",
    "        hanoi(n-1, middle, first, last)\n",
    "        \n",
    "    "
   ]
  },
  {
   "cell_type": "code",
   "execution_count": 7,
   "metadata": {},
   "outputs": [
    {
     "name": "stdout",
     "output_type": "stream",
     "text": [
      "1 : A ===> C\n",
      "2 : A ===> B\n",
      "1 : C ===> B\n",
      "3 : A ===> C\n",
      "1 : B ===> A\n",
      "2 : B ===> C\n",
      "1 : A ===> C\n"
     ]
    }
   ],
   "source": [
    "hanoi(3,\"A\",\"B\",\"C\")"
   ]
  },
  {
   "cell_type": "code",
   "execution_count": 4,
   "metadata": {},
   "outputs": [
    {
     "name": "stdout",
     "output_type": "stream",
     "text": [
      "1 A ==> C\n",
      "1 A ==> B\n",
      "2 A ==> C\n",
      "1 B ==> C\n",
      "1 A ==> C\n",
      "2 A ==> B\n",
      "1 C ==> B\n",
      "3 A ==> C\n",
      "1 B ==> A\n",
      "2 B ==> C\n",
      "1 A ==> C\n"
     ]
    }
   ],
   "source": [
    "#hanoi 이해를 위해 테스트 구문들\n",
    "\n",
    "n = 3\n",
    "first = \"A\"\n",
    "middle = \"B\"\n",
    "last = \"C\"\n",
    "\n",
    "#하노이 타워 블록 1개 일 때\n",
    "print(1, first, \"==>\", last)\n",
    "\n",
    "#하노이 타워 블록 2개 일 때\n",
    "print(1, first, \"==>\", middle)\n",
    "print(2, first, \"==>\", last)\n",
    "print(1, middle, \"==>\", last)\n",
    "\n",
    "#하노이 타워 블록 3개 일 때\n",
    "print(1, first, \"==>\", last)\n",
    "print(2, first, \"==>\", middle)\n",
    "print(1, last, \"==>\", middle)\n",
    "print(3, first, \"==>\", last)\n",
    "print(1, middle, \"==>\", first)\n",
    "print(2, middle, \"==>\", last)\n",
    "print(1, first, \"==>\", last)"
   ]
  },
  {
   "cell_type": "code",
   "execution_count": null,
   "metadata": {
    "collapsed": true
   },
   "outputs": [],
   "source": []
  }
 ],
 "metadata": {
  "kernelspec": {
   "display_name": "Python 3",
   "language": "python",
   "name": "python3"
  },
  "language_info": {
   "codemirror_mode": {
    "name": "ipython",
    "version": 3
   },
   "file_extension": ".py",
   "mimetype": "text/x-python",
   "name": "python",
   "nbconvert_exporter": "python",
   "pygments_lexer": "ipython3",
   "version": "3.6.1"
  }
 },
 "nbformat": 4,
 "nbformat_minor": 2
}
